{
    "cells": [
        {
            "cell_type": "markdown",
            "metadata": {},
            "source": "# MLB STANDING"
        },
        {
            "cell_type": "code",
            "execution_count": 1,
            "metadata": {},
            "outputs": [
                {
                    "data": {
                        "text/html": "<div>\n<style scoped>\n    .dataframe tbody tr th:only-of-type {\n        vertical-align: middle;\n    }\n\n    .dataframe tbody tr th {\n        vertical-align: top;\n    }\n\n    .dataframe thead th {\n        text-align: right;\n    }\n</style>\n<table border=\"1\" class=\"dataframe\">\n  <thead>\n    <tr style=\"text-align: right;\">\n      <th></th>\n      <th>Unnamed: 0</th>\n      <th>Team</th>\n      <th>League</th>\n      <th>Wins</th>\n      <th>Losses</th>\n      <th>WinPct</th>\n      <th>BattingAverage</th>\n      <th>Runs</th>\n      <th>Hits</th>\n      <th>HR</th>\n      <th>...</th>\n      <th>RBI</th>\n      <th>SB</th>\n      <th>OBP</th>\n      <th>SLG</th>\n      <th>ERA</th>\n      <th>HitsAllowed</th>\n      <th>Walks</th>\n      <th>StrikeOuts</th>\n      <th>Saves</th>\n      <th>WHIP</th>\n    </tr>\n  </thead>\n  <tbody>\n    <tr>\n      <th>0</th>\n      <td>1</td>\n      <td>Arizona Diamondbacks</td>\n      <td>NL</td>\n      <td>69</td>\n      <td>93</td>\n      <td>0.426</td>\n      <td>0.261</td>\n      <td>752</td>\n      <td>1479</td>\n      <td>190</td>\n      <td>...</td>\n      <td>709</td>\n      <td>137</td>\n      <td>0.320</td>\n      <td>0.432</td>\n      <td>5.09</td>\n      <td>1563</td>\n      <td>603</td>\n      <td>1318</td>\n      <td>31</td>\n      <td>1.492</td>\n    </tr>\n    <tr>\n      <th>1</th>\n      <td>2</td>\n      <td>Atlanta Braves</td>\n      <td>NL</td>\n      <td>68</td>\n      <td>93</td>\n      <td>0.422</td>\n      <td>0.255</td>\n      <td>649</td>\n      <td>1404</td>\n      <td>122</td>\n      <td>...</td>\n      <td>615</td>\n      <td>75</td>\n      <td>0.321</td>\n      <td>0.384</td>\n      <td>4.51</td>\n      <td>1414</td>\n      <td>547</td>\n      <td>1227</td>\n      <td>39</td>\n      <td>1.355</td>\n    </tr>\n    <tr>\n      <th>2</th>\n      <td>3</td>\n      <td>Baltimore Orioles</td>\n      <td>AL</td>\n      <td>89</td>\n      <td>73</td>\n      <td>0.549</td>\n      <td>0.256</td>\n      <td>744</td>\n      <td>1413</td>\n      <td>253</td>\n      <td>...</td>\n      <td>710</td>\n      <td>19</td>\n      <td>0.317</td>\n      <td>0.443</td>\n      <td>4.22</td>\n      <td>1408</td>\n      <td>545</td>\n      <td>1248</td>\n      <td>54</td>\n      <td>1.364</td>\n    </tr>\n    <tr>\n      <th>3</th>\n      <td>4</td>\n      <td>Boston Red Sox</td>\n      <td>AL</td>\n      <td>93</td>\n      <td>69</td>\n      <td>0.574</td>\n      <td>0.282</td>\n      <td>878</td>\n      <td>1598</td>\n      <td>208</td>\n      <td>...</td>\n      <td>836</td>\n      <td>83</td>\n      <td>0.348</td>\n      <td>0.461</td>\n      <td>4.00</td>\n      <td>1342</td>\n      <td>490</td>\n      <td>1362</td>\n      <td>43</td>\n      <td>1.273</td>\n    </tr>\n    <tr>\n      <th>4</th>\n      <td>5</td>\n      <td>Chicago Cubs</td>\n      <td>NL</td>\n      <td>103</td>\n      <td>58</td>\n      <td>0.640</td>\n      <td>0.256</td>\n      <td>808</td>\n      <td>1409</td>\n      <td>199</td>\n      <td>...</td>\n      <td>767</td>\n      <td>66</td>\n      <td>0.343</td>\n      <td>0.429</td>\n      <td>3.15</td>\n      <td>1125</td>\n      <td>495</td>\n      <td>1441</td>\n      <td>38</td>\n      <td>1.110</td>\n    </tr>\n  </tbody>\n</table>\n<p>5 rows \u00d7 22 columns</p>\n</div>",
                        "text/plain": "   Unnamed: 0                  Team League  Wins  Losses  WinPct  \\\n0           1  Arizona Diamondbacks     NL    69      93   0.426   \n1           2        Atlanta Braves     NL    68      93   0.422   \n2           3     Baltimore Orioles     AL    89      73   0.549   \n3           4        Boston Red Sox     AL    93      69   0.574   \n4           5          Chicago Cubs     NL   103      58   0.640   \n\n   BattingAverage  Runs  Hits   HR  ...  RBI   SB    OBP    SLG   ERA  \\\n0           0.261   752  1479  190  ...  709  137  0.320  0.432  5.09   \n1           0.255   649  1404  122  ...  615   75  0.321  0.384  4.51   \n2           0.256   744  1413  253  ...  710   19  0.317  0.443  4.22   \n3           0.282   878  1598  208  ...  836   83  0.348  0.461  4.00   \n4           0.256   808  1409  199  ...  767   66  0.343  0.429  3.15   \n\n   HitsAllowed  Walks  StrikeOuts  Saves   WHIP  \n0         1563    603        1318     31  1.492  \n1         1414    547        1227     39  1.355  \n2         1408    545        1248     54  1.364  \n3         1342    490        1362     43  1.273  \n4         1125    495        1441     38  1.110  \n\n[5 rows x 22 columns]"
                    },
                    "execution_count": 1,
                    "metadata": {},
                    "output_type": "execute_result"
                }
            ],
            "source": "# The code was removed by Watson Studio for sharing."
        },
        {
            "cell_type": "code",
            "execution_count": null,
            "metadata": {},
            "outputs": [],
            "source": ""
        }
    ],
    "metadata": {
        "kernelspec": {
            "display_name": "Python 3.6",
            "language": "python",
            "name": "python3"
        },
        "language_info": {
            "codemirror_mode": {
                "name": "ipython",
                "version": 3
            },
            "file_extension": ".py",
            "mimetype": "text/x-python",
            "name": "python",
            "nbconvert_exporter": "python",
            "pygments_lexer": "ipython3",
            "version": "3.6.9"
        }
    },
    "nbformat": 4,
    "nbformat_minor": 1
}